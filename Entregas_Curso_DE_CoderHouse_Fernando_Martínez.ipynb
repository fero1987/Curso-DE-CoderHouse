{
  "nbformat": 4,
  "nbformat_minor": 0,
  "metadata": {
    "colab": {
      "provenance": [],
      "authorship_tag": "ABX9TyOM5g0fTjpmxS+/nRNLl9ap"
    },
    "kernelspec": {
      "name": "python3",
      "display_name": "Python 3"
    },
    "language_info": {
      "name": "python"
    }
  },
  "cells": [
    {
      "cell_type": "markdown",
      "source": [
        "## **Entregable 1 - Fernando Martínez (comisión Jueves)**"
      ],
      "metadata": {
        "id": "1SbMxijkNWkP"
      }
    },
    {
      "cell_type": "code",
      "execution_count": null,
      "metadata": {
        "colab": {
          "base_uri": "https://localhost:8080/"
        },
        "id": "CMUqE7F_NDVQ",
        "outputId": "9c91ab61-dc4f-4641-ca2e-7cb03c564646"
      },
      "outputs": [
        {
          "output_type": "stream",
          "name": "stdout",
          "text": [
            "Looking in indexes: https://pypi.org/simple, https://us-python.pkg.dev/colab-wheels/public/simple/\n",
            "Requirement already satisfied: requests in /usr/local/lib/python3.10/dist-packages (2.27.1)\n",
            "Requirement already satisfied: urllib3<1.27,>=1.21.1 in /usr/local/lib/python3.10/dist-packages (from requests) (1.26.15)\n",
            "Requirement already satisfied: certifi>=2017.4.17 in /usr/local/lib/python3.10/dist-packages (from requests) (2022.12.7)\n",
            "Requirement already satisfied: charset-normalizer~=2.0.0 in /usr/local/lib/python3.10/dist-packages (from requests) (2.0.12)\n",
            "Requirement already satisfied: idna<4,>=2.5 in /usr/local/lib/python3.10/dist-packages (from requests) (3.4)\n"
          ]
        }
      ],
      "source": [
        "# Instalo las bibliotecas necesarias\n",
        "!pip install requests"
      ]
    },
    {
      "cell_type": "code",
      "source": [
        "# Importo las bibliotecas necesarias:\n",
        "import requests\n",
        "import json\n",
        "import pandas as pd\n",
        "import psycopg2\n",
        "from io import StringIO"
      ],
      "metadata": {
        "id": "ae1MmSIdNRH8"
      },
      "execution_count": null,
      "outputs": []
    },
    {
      "cell_type": "code",
      "source": [
        "# URL de la API para obtener los datos diarios de COVID-19 para Estados Unidos\n",
        "url = 'https://data.cdc.gov/resource/9mfq-cb36.json'\n",
        "\n",
        "# Realizo la solicitud HTTP a la API\n",
        "response = requests.get(url)\n",
        "\n",
        "# Obtengo los datos en formato JSON\n",
        "data = response.json()\n",
        "\n",
        "# Selecciono las columnas relevantes (al menos 10 variables)\n",
        "columnas = ['submission_date', 'tot_cases', 'tot_death', 'new_case', 'new_death','consent_cases', 'consent_deaths', 'conf_death', 'conf_cases', 'pnew_case']\n",
        "datos = []\n",
        "\n",
        "# Extraigo los datos para cada día\n",
        "for registro in data:\n",
        "    registro_seleccionado = {columna: registro[columna] for columna in columnas if columna in registro}\n",
        "    datos.append(registro_seleccionado)\n",
        "\n",
        "# Creo el dataframe de Pandas\n",
        "df = pd.DataFrame(datos)\n",
        "\n",
        "# Muestro el dataframe\n",
        "print(df)"
      ],
      "metadata": {
        "colab": {
          "base_uri": "https://localhost:8080/"
        },
        "id": "tUmfWrbB0J1W",
        "outputId": "8f82741a-9342-4ee9-eb18-66e18faebdba"
      },
      "execution_count": null,
      "outputs": [
        {
          "output_type": "stream",
          "name": "stdout",
          "text": [
            "             submission_date tot_cases tot_death new_case new_death  \\\n",
            "0    2021-03-11T00:00:00.000    297229      4851      0.0       0.0   \n",
            "1    2021-12-01T00:00:00.000    163565      1907    589.0       9.0   \n",
            "2    2022-01-02T00:00:00.000        11         0      0.0       0.0   \n",
            "3    2021-11-22T00:00:00.000    841461     16377    703.0       7.0   \n",
            "4    2022-05-30T00:00:00.000    251425      1252      0.0       0.0   \n",
            "..                       ...       ...       ...      ...       ...   \n",
            "995  2021-12-16T00:00:00.000    875502      9841   2429.0      62.0   \n",
            "996  2021-11-26T00:00:00.000    664667     11223    751.0       0.0   \n",
            "997  2021-05-03T00:00:00.000    723443     13323    797.0       1.0   \n",
            "998  2020-12-10T00:00:00.000    225946      1016   3401.0      21.0   \n",
            "999  2020-06-02T00:00:00.000     18145      1046    322.0      13.0   \n",
            "\n",
            "    consent_cases consent_deaths conf_cases pnew_case conf_death  \n",
            "0           Agree            N/A   241035.0         0        NaN  \n",
            "1           Agree      Not agree   135705.0       220        NaN  \n",
            "2             NaN            NaN        NaN         0        NaN  \n",
            "3           Agree          Agree   620483.0       357    12727.0  \n",
            "4             N/A            N/A        NaN         0        NaN  \n",
            "..            ...            ...        ...       ...        ...  \n",
            "995         Agree          Agree   800777.0       230     8722.0  \n",
            "996         Agree          Agree   502794.0       231     8545.0  \n",
            "997     Not agree          Agree        NaN         0    12912.0  \n",
            "998         Agree          Agree   225946.0         0      998.0  \n",
            "999         Agree          Agree    18009.0         3     1028.0  \n",
            "\n",
            "[1000 rows x 10 columns]\n"
          ]
        }
      ]
    },
    {
      "cell_type": "code",
      "source": [
        "import psycopg2\n",
        "from io import StringIO\n",
        "\n",
        "# Conexión a Amazon Redshift\n",
        "host = 'data-engineer-cluster.cyhh5bfevlmn.us-east-1.redshift.amazonaws.com'\n",
        "port = 5439\n",
        "database = 'data-engineer-database'\n",
        "user = 'fgmartinez87_coderhouse'\n",
        "password = '7c92hMs3M1'\n",
        "\n",
        "# Creo la conexión a Amazon Redshift\n",
        "conn = psycopg2.connect(\n",
        "    host=host,\n",
        "    port=port,\n",
        "    database=database,\n",
        "    user=user,\n",
        "    password=password\n",
        ")\n",
        "\n"
      ],
      "metadata": {
        "id": "diK73vZk3foH"
      },
      "execution_count": null,
      "outputs": []
    },
    {
      "cell_type": "code",
      "source": [
        "# Creo la tabla en Redshift\n",
        "create_table_query = '''\n",
        "CREATE TABLE IF NOT EXISTS covid_data (\n",
        "    submission_date DATE,\n",
        "    tot_cases INT,\n",
        "    tot_death INT,\n",
        "    new_case FLOAT,\n",
        "    new_death FLOAT,\n",
        "    consent_cases VARCHAR(10),\n",
        "    consent_deaths VARCHAR(10),\n",
        "    conf_death FLOAT,\n",
        "    conf_cases FLOAT,\n",
        "    pnew_case FLOAT\n",
        ");\n",
        "'''\n",
        "with conn.cursor() as cur:\n",
        "    cur.execute(create_table_query)\n",
        "    conn.commit()"
      ],
      "metadata": {
        "id": "WnStKMh45E7k"
      },
      "execution_count": null,
      "outputs": []
    },
    {
      "cell_type": "markdown",
      "source": [
        "\n",
        "## **Entregable 2 - Fernando Martínez (comisión Jueves)**"
      ],
      "metadata": {
        "id": "g4lQqV6LaUG5"
      }
    },
    {
      "cell_type": "code",
      "source": [
        "# Inserto los datos del df\n",
        "insert_query = 'INSERT INTO covid_data VALUES (%s, %s, %s, %s, %s, %s, %s, %s, %s, %s);'\n",
        "data_to_insert = [tuple(row) for row in df.values]\n",
        "with conn.cursor() as cur:\n",
        "    cur.executemany(insert_query, data_to_insert)\n",
        "    conn.commit()"
      ],
      "metadata": {
        "id": "Vg-F-H1f5GNi"
      },
      "execution_count": null,
      "outputs": []
    },
    {
      "cell_type": "code",
      "source": [
        "# Realizo la consulta en Redshift para ver si se cargó la data\n",
        "query = 'SELECT * FROM covid_data;'\n",
        "df_result = pd.read_sql_query(query, conn)\n",
        "\n",
        "# Muestro el resultado\n",
        "print(df_result)"
      ],
      "metadata": {
        "colab": {
          "base_uri": "https://localhost:8080/"
        },
        "id": "FTf77Qrz76_u",
        "outputId": "b0155557-6b86-4a57-ae31-647383be0591"
      },
      "execution_count": null,
      "outputs": [
        {
          "output_type": "stream",
          "name": "stdout",
          "text": [
            "    submission_date  tot_cases  tot_death  new_case  new_death consent_cases  \\\n",
            "0        2021-03-11     297229       4851       0.0        0.0         Agree   \n",
            "1        2021-12-01     163565       1907     589.0        9.0         Agree   \n",
            "2        2022-01-02         11          0       0.0        0.0           NaN   \n",
            "3        2021-11-22     841461      16377     703.0        7.0         Agree   \n",
            "4        2022-05-30     251425       1252       0.0        0.0           N/A   \n",
            "..              ...        ...        ...       ...        ...           ...   \n",
            "995      2021-12-16     875502       9841    2429.0       62.0         Agree   \n",
            "996      2021-11-26     664667      11223     751.0        0.0         Agree   \n",
            "997      2021-05-03     723443      13323     797.0        1.0     Not agree   \n",
            "998      2020-12-10     225946       1016    3401.0       21.0         Agree   \n",
            "999      2020-06-02      18145       1046     322.0       13.0         Agree   \n",
            "\n",
            "    consent_deaths  conf_death  conf_cases  pnew_case  \n",
            "0              N/A    241035.0         0.0        NaN  \n",
            "1        Not agree    135705.0       220.0        NaN  \n",
            "2              NaN         NaN         0.0        NaN  \n",
            "3            Agree    620483.0       357.0    12727.0  \n",
            "4              N/A         NaN         0.0        NaN  \n",
            "..             ...         ...         ...        ...  \n",
            "995          Agree    800777.0       230.0     8722.0  \n",
            "996          Agree    502794.0       231.0     8545.0  \n",
            "997          Agree         NaN         0.0    12912.0  \n",
            "998          Agree    225946.0         0.0      998.0  \n",
            "999          Agree     18009.0         3.0     1028.0  \n",
            "\n",
            "[1000 rows x 10 columns]\n"
          ]
        },
        {
          "output_type": "stream",
          "name": "stderr",
          "text": [
            "<ipython-input-30-c7ea476a5afb>:3: UserWarning: pandas only supports SQLAlchemy connectable (engine/connection) or database string URI or sqlite3 DBAPI2 connection. Other DBAPI2 objects are not tested. Please consider using SQLAlchemy.\n",
            "  df_result = pd.read_sql_query(query, conn)\n"
          ]
        }
      ]
    },
    {
      "cell_type": "code",
      "source": [
        "# Cuento la cantidad de registros para validar\n",
        "with conn.cursor() as cur:\n",
        "    cur.execute(\"SELECT COUNT(*) FROM covid_data\")\n",
        "    count = cur.fetchone()[0]\n",
        "    print(f\"Cantidad de registros en la tabla covid_data: {count}\")"
      ],
      "metadata": {
        "colab": {
          "base_uri": "https://localhost:8080/"
        },
        "id": "QRqCeZoX8fic",
        "outputId": "e15c526a-1a44-4e7f-a154-7a1bb16dfe3d"
      },
      "execution_count": null,
      "outputs": [
        {
          "output_type": "stream",
          "name": "stdout",
          "text": [
            "Cantidad de registros en la tabla covid_data: 1000\n"
          ]
        }
      ]
    },
    {
      "cell_type": "code",
      "source": [
        "# Quiero validar que no hayan duplicados\n",
        "with conn.cursor() as cur:\n",
        "    cur.execute(\"SELECT COUNT(*) FROM (SELECT DISTINCT * FROM covid_data) AS unique_records;\")\n",
        "    count = cur.fetchone()[0]\n",
        "    print(f\"Cantidad de registros únicos en la tabla covid_data: {count}\")"
      ],
      "metadata": {
        "colab": {
          "base_uri": "https://localhost:8080/"
        },
        "id": "TVTQ_-wMqbKw",
        "outputId": "d48b479d-928a-4063-b31e-cbb16eba56de"
      },
      "execution_count": null,
      "outputs": [
        {
          "output_type": "stream",
          "name": "stdout",
          "text": [
            "Cantidad de registros únicos en la tabla covid_data: 999\n"
          ]
        }
      ]
    },
    {
      "cell_type": "markdown",
      "source": [
        "Existe un resgistro duplicado"
      ],
      "metadata": {
        "id": "u3SxauQosOIF"
      }
    },
    {
      "cell_type": "code",
      "source": [
        "# Query para borrar la tabla\n",
        "# with conn.cursor() as cur:\n",
        "#    truncate_query = 'DROP TABLE covid_data;'\n",
        "#    cur.execute(truncate_query)\n",
        "# conn.commit()"
      ],
      "metadata": {
        "id": "q4s6PyVV7Fa-"
      },
      "execution_count": null,
      "outputs": []
    },
    {
      "cell_type": "code",
      "source": [
        "# Inserto los mismos registros dos veces para generar más duplicados\n",
        "insert_query = 'INSERT INTO covid_data VALUES (%s, %s, %s, %s, %s, %s, %s, %s, %s, %s);'\n",
        "data_to_insert = [tuple(row) for row in df.values]\n",
        "with conn.cursor() as cur:\n",
        "    cur.executemany(insert_query, data_to_insert)\n",
        "    conn.commit()"
      ],
      "metadata": {
        "id": "jKgtuHzrSnI5"
      },
      "execution_count": null,
      "outputs": []
    },
    {
      "cell_type": "code",
      "source": [
        "# Cuento la cantidad de registros para validar\n",
        "with conn.cursor() as cur:\n",
        "    cur.execute(\"SELECT COUNT(*) FROM covid_data\")\n",
        "    count = cur.fetchone()[0]\n",
        "    print(f\"Cantidad de registros en la tabla covid_data: {count}\")"
      ],
      "metadata": {
        "colab": {
          "base_uri": "https://localhost:8080/"
        },
        "id": "a-QBYBc1ojTL",
        "outputId": "c8d7f92b-18a9-4238-d94e-af7e8074a47a"
      },
      "execution_count": null,
      "outputs": [
        {
          "output_type": "stream",
          "name": "stdout",
          "text": [
            "Cantidad de registros en la tabla covid_data: 2000\n"
          ]
        }
      ]
    },
    {
      "cell_type": "code",
      "source": [
        "# Query para eliminar duplicados\n",
        "with conn.cursor() as cur:\n",
        "    # Creo una nueva tabla temporal sin duplicados\n",
        "    cur.execute(\"CREATE TABLE covid_data_temp AS SELECT DISTINCT * FROM covid_data;\")\n",
        "\n",
        "    # Elimino la tabla original\n",
        "    cur.execute(\"DROP TABLE covid_data;\")\n",
        "\n",
        "    # Renombro la tabla temporal como la tabla original\n",
        "    cur.execute(\"ALTER TABLE covid_data_temp RENAME TO covid_data;\")\n",
        "\n",
        "    # Confirmo los cambios\n",
        "    conn.commit()\n",
        "\n",
        "    # Obtengo la cantidad de registros después de eliminar duplicados\n",
        "    cur.execute(\"SELECT COUNT(*) FROM covid_data;\")\n",
        "    count = cur.fetchone()[0]\n",
        "    print(f\"Cantidad de registros en la tabla covid_data después de eliminar duplicados: {count}\")"
      ],
      "metadata": {
        "colab": {
          "base_uri": "https://localhost:8080/"
        },
        "id": "rtTxJdz7S5Xs",
        "outputId": "3f9beab2-b30f-4c79-84f6-eb4fcba7eeb8"
      },
      "execution_count": null,
      "outputs": [
        {
          "output_type": "stream",
          "name": "stdout",
          "text": [
            "Cantidad de registros en la tabla covid_data después de eliminar duplicados: 999\n"
          ]
        }
      ]
    }
  ]
}