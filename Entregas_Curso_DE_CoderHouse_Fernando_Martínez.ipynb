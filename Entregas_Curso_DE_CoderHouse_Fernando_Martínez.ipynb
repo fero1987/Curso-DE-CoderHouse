{
  "nbformat": 4,
  "nbformat_minor": 0,
  "metadata": {
    "colab": {
      "provenance": [],
      "authorship_tag": "ABX9TyMgdtJw9+4jENHBAwKu5aSm"
    },
    "kernelspec": {
      "name": "python3",
      "display_name": "Python 3"
    },
    "language_info": {
      "name": "python"
    }
  },
  "cells": [
    {
      "cell_type": "markdown",
      "source": [
        "## **Entregable 1 - Fernando Martínez (comisión Jueves)**"
      ],
      "metadata": {
        "id": "1SbMxijkNWkP"
      }
    },
    {
      "cell_type": "code",
      "execution_count": 1,
      "metadata": {
        "colab": {
          "base_uri": "https://localhost:8080/"
        },
        "id": "CMUqE7F_NDVQ",
        "outputId": "87965077-77b4-4baf-acd6-fcf0919dbbcd"
      },
      "outputs": [
        {
          "output_type": "stream",
          "name": "stdout",
          "text": [
            "Looking in indexes: https://pypi.org/simple, https://us-python.pkg.dev/colab-wheels/public/simple/\n",
            "Requirement already satisfied: requests in /usr/local/lib/python3.10/dist-packages (2.27.1)\n",
            "Requirement already satisfied: urllib3<1.27,>=1.21.1 in /usr/local/lib/python3.10/dist-packages (from requests) (1.26.16)\n",
            "Requirement already satisfied: certifi>=2017.4.17 in /usr/local/lib/python3.10/dist-packages (from requests) (2023.5.7)\n",
            "Requirement already satisfied: charset-normalizer~=2.0.0 in /usr/local/lib/python3.10/dist-packages (from requests) (2.0.12)\n",
            "Requirement already satisfied: idna<4,>=2.5 in /usr/local/lib/python3.10/dist-packages (from requests) (3.4)\n"
          ]
        }
      ],
      "source": [
        "# Instalo las bibliotecas necesarias\n",
        "!pip install requests"
      ]
    },
    {
      "cell_type": "code",
      "source": [
        "# Importo las bibliotecas necesarias:\n",
        "import requests\n",
        "import json\n",
        "import pandas as pd\n",
        "import psycopg2\n",
        "from io import StringIO"
      ],
      "metadata": {
        "id": "ae1MmSIdNRH8"
      },
      "execution_count": 2,
      "outputs": []
    },
    {
      "cell_type": "code",
      "source": [
        "# Importo las bibliotecas necesarias:\n",
        "import requests\n",
        "import json\n",
        "import pandas as pd\n",
        "import psycopg2\n",
        "from io import StringIO\n",
        "\n",
        "# Nueva URL de la API para obtener los datos diarios de COVID-19 para Estados Unidos\n",
        "url = 'https://api.covidtracking.com/v1/us/daily.json'\n",
        "\n",
        "# Realizo la solicitud HTTP a la API\n",
        "response = requests.get(url)\n",
        "\n",
        "# Obtengo los datos en formato JSON\n",
        "data = response.json()\n",
        "\n",
        "# Selecciono las columnas relevantes (al menos 10 variables)\n",
        "columnas = ['date', 'positive', 'death', 'positiveIncrease', 'deathIncrease', 'totalTestResults', 'hospitalizedCurrently', 'recovered', 'total', 'totalTestResultsIncrease']\n",
        "datos = []\n",
        "\n",
        "# Extraigo los datos para cada día\n",
        "for registro in data:\n",
        "    registro_seleccionado = {columna: registro[columna] for columna in columnas if columna in registro}\n",
        "    datos.append(registro_seleccionado)\n",
        "\n",
        "# Creo el dataframe de Pandas\n",
        "df = pd.DataFrame(datos)\n",
        "\n",
        "# Renombro las columnas\n",
        "nombres_columnas = {\n",
        "    'date': 'submission_date',\n",
        "    'positive': 'tot_cases',\n",
        "    'death': 'tot_death',\n",
        "    'positiveIncrease': 'new_case',\n",
        "    'deathIncrease': 'new_death',\n",
        "    'totalTestResults': 'total_test_results',\n",
        "    'hospitalizedCurrently': 'hospitalized_currently',\n",
        "    'recovered': 'recovered',\n",
        "    'total': 'total',\n",
        "    'totalTestResultsIncrease': 'total_test_results_increase'\n",
        "}\n",
        "df = df.rename(columns=nombres_columnas)\n",
        "\n",
        "# Muestro el dataframe\n",
        "print(df)"
      ],
      "metadata": {
        "colab": {
          "base_uri": "https://localhost:8080/"
        },
        "id": "tUmfWrbB0J1W",
        "outputId": "a45b3b18-3af9-4cfe-da74-da167f8f7588"
      },
      "execution_count": 16,
      "outputs": [
        {
          "output_type": "stream",
          "name": "stdout",
          "text": [
            "     submission_date   tot_cases  tot_death  new_case  new_death  \\\n",
            "0           20210307  28756489.0   515151.0     41835        842   \n",
            "1           20210306  28714654.0   514309.0     60015       1680   \n",
            "2           20210305  28654639.0   512629.0     68787       2221   \n",
            "3           20210304  28585852.0   510408.0     65487       1743   \n",
            "4           20210303  28520365.0   508665.0     66836       2449   \n",
            "..               ...         ...        ...       ...        ...   \n",
            "415         20200117         0.0        NaN         0          0   \n",
            "416         20200116         0.0        NaN         0          0   \n",
            "417         20200115         0.0        NaN         0          0   \n",
            "418         20200114         0.0        NaN         0          0   \n",
            "419         20200113         NaN        NaN         0          0   \n",
            "\n",
            "     total_test_results  hospitalized_currently recovered  total  \\\n",
            "0             363825123                 40199.0      None      0   \n",
            "1             362655064                 41401.0      None      0   \n",
            "2             361224072                 42541.0      None      0   \n",
            "3             359479655                 44172.0      None      0   \n",
            "4             357888671                 45462.0      None      0   \n",
            "..                  ...                     ...       ...    ...   \n",
            "415                   0                     NaN      None      0   \n",
            "416                   0                     NaN      None      0   \n",
            "417                   0                     NaN      None      0   \n",
            "418                   0                     NaN      None      0   \n",
            "419                   0                     NaN      None      0   \n",
            "\n",
            "     total_test_results_increase  \n",
            "0                        1170059  \n",
            "1                        1430992  \n",
            "2                        1744417  \n",
            "3                        1590984  \n",
            "4                        1406795  \n",
            "..                           ...  \n",
            "415                            0  \n",
            "416                            0  \n",
            "417                            0  \n",
            "418                            0  \n",
            "419                            0  \n",
            "\n",
            "[420 rows x 10 columns]\n"
          ]
        }
      ]
    },
    {
      "cell_type": "code",
      "source": [
        "import psycopg2\n",
        "from io import StringIO\n",
        "\n",
        "# Conexión a Amazon Redshift\n",
        "host = 'data-engineer-cluster.cyhh5bfevlmn.us-east-1.redshift.amazonaws.com'\n",
        "port = 5439\n",
        "database = 'data-engineer-database'\n",
        "user = 'fgmartinez87_coderhouse'\n",
        "password = '7c92hMs3M1'\n",
        "\n",
        "# Creo la conexión a Amazon Redshift\n",
        "conn = psycopg2.connect(\n",
        "    host=host,\n",
        "    port=port,\n",
        "    database=database,\n",
        "    user=user,\n",
        "    password=password\n",
        ")\n",
        "\n"
      ],
      "metadata": {
        "id": "diK73vZk3foH"
      },
      "execution_count": 30,
      "outputs": []
    },
    {
      "cell_type": "code",
      "source": [
        "# Creo la tabla en Redshift\n",
        "create_table_query = '''\n",
        "CREATE TABLE IF NOT EXISTS covid_data (\n",
        "    submission_date DATE,\n",
        "    tot_cases INT,\n",
        "    tot_death INT,\n",
        "    new_case INT,\n",
        "    new_death INT,\n",
        "    total_test_results INT,\n",
        "    hospitalized_currently INT,\n",
        "    recovered INT,\n",
        "    total INT,\n",
        "    total_test_results_increase INT\n",
        ");\n",
        "'''\n",
        "with conn.cursor() as cur:\n",
        "    cur.execute(create_table_query)\n",
        "    conn.commit()"
      ],
      "metadata": {
        "id": "WnStKMh45E7k"
      },
      "execution_count": 31,
      "outputs": []
    },
    {
      "cell_type": "code",
      "source": [
        "# Realizo la consulta en Redshift para ver si se creo la tabla\n",
        "query = 'SELECT * FROM covid_data;'\n",
        "df_result = pd.read_sql_query(query, conn)\n",
        "\n",
        "# Muestro el resultado\n",
        "print(df_result)"
      ],
      "metadata": {
        "colab": {
          "base_uri": "https://localhost:8080/"
        },
        "id": "j3VyTI8qcOy9",
        "outputId": "d2773b42-9efd-46bf-d80c-35e5b266a410"
      },
      "execution_count": 36,
      "outputs": [
        {
          "output_type": "stream",
          "name": "stderr",
          "text": [
            "<ipython-input-36-c7ea476a5afb>:3: UserWarning: pandas only supports SQLAlchemy connectable (engine/connection) or database string URI or sqlite3 DBAPI2 connection. Other DBAPI2 objects are not tested. Please consider using SQLAlchemy.\n",
            "  df_result = pd.read_sql_query(query, conn)\n"
          ]
        },
        {
          "output_type": "stream",
          "name": "stdout",
          "text": [
            "Empty DataFrame\n",
            "Columns: [submission_date, tot_cases, tot_death, new_case, new_death, consent_cases, consent_deaths, conf_death, conf_cases, pnew_case]\n",
            "Index: []\n"
          ]
        }
      ]
    },
    {
      "cell_type": "markdown",
      "source": [
        "\n",
        "## **Entregable 2 - Fernando Martínez (comisión Jueves)**"
      ],
      "metadata": {
        "id": "g4lQqV6LaUG5"
      }
    },
    {
      "cell_type": "code",
      "source": [
        "# Inserto los datos del df\n",
        "insert_query = 'INSERT INTO covid_data VALUES (%s, %s, %s, %s, %s, %s, %s, %s, %s, %s);'\n",
        "data_to_insert = [tuple(row) for row in df.values]\n",
        "with conn.cursor() as cur:\n",
        "    cur.executemany(insert_query, data_to_insert)\n",
        "    conn.commit()"
      ],
      "metadata": {
        "id": "Vg-F-H1f5GNi"
      },
      "execution_count": 37,
      "outputs": []
    },
    {
      "cell_type": "code",
      "source": [
        "# Realizo la consulta en Redshift para ver si se cargó la data\n",
        "query = 'SELECT * FROM covid_data;'\n",
        "df_result = pd.read_sql_query(query, conn)\n",
        "\n",
        "# Muestro el resultado\n",
        "print(df_result)"
      ],
      "metadata": {
        "colab": {
          "base_uri": "https://localhost:8080/"
        },
        "id": "FTf77Qrz76_u",
        "outputId": "d3af195c-fecd-48bf-eb5b-cd359dad62c8"
      },
      "execution_count": 38,
      "outputs": [
        {
          "output_type": "stream",
          "name": "stderr",
          "text": [
            "<ipython-input-38-c7ea476a5afb>:3: UserWarning: pandas only supports SQLAlchemy connectable (engine/connection) or database string URI or sqlite3 DBAPI2 connection. Other DBAPI2 objects are not tested. Please consider using SQLAlchemy.\n",
            "  df_result = pd.read_sql_query(query, conn)\n"
          ]
        },
        {
          "output_type": "stream",
          "name": "stdout",
          "text": [
            "    submission_date   tot_cases   tot_death  new_case  new_death  \\\n",
            "0        1970-01-01    28756489      515151   41835.0      842.0   \n",
            "1        1970-01-01    28714654      514309   60015.0     1680.0   \n",
            "2        1970-01-01    28654639      512629   68787.0     2221.0   \n",
            "3        1970-01-01    28585852      510408   65487.0     1743.0   \n",
            "4        1970-01-01    28520365      508665   66836.0     2449.0   \n",
            "..              ...         ...         ...       ...        ...   \n",
            "415      1970-01-01           0 -2147483648       0.0        0.0   \n",
            "416      1970-01-01           0 -2147483648       0.0        0.0   \n",
            "417      1970-01-01           0 -2147483648       0.0        0.0   \n",
            "418      1970-01-01           0 -2147483648       0.0        0.0   \n",
            "419      1970-01-01 -2147483648 -2147483648       0.0        0.0   \n",
            "\n",
            "    consent_cases consent_deaths conf_death  conf_cases  pnew_case  \n",
            "0       363825123        40199.0       None         0.0  1170059.0  \n",
            "1       362655064        41401.0       None         0.0  1430992.0  \n",
            "2       361224072        42541.0       None         0.0  1744417.0  \n",
            "3       359479655        44172.0       None         0.0  1590984.0  \n",
            "4       357888671        45462.0       None         0.0  1406795.0  \n",
            "..            ...            ...        ...         ...        ...  \n",
            "415             0            NaN       None         0.0        0.0  \n",
            "416             0            NaN       None         0.0        0.0  \n",
            "417             0            NaN       None         0.0        0.0  \n",
            "418             0            NaN       None         0.0        0.0  \n",
            "419             0            NaN       None         0.0        0.0  \n",
            "\n",
            "[420 rows x 10 columns]\n"
          ]
        }
      ]
    },
    {
      "cell_type": "code",
      "source": [
        "# Cuento la cantidad de registros para validar\n",
        "with conn.cursor() as cur:\n",
        "    cur.execute(\"SELECT COUNT(*) FROM covid_data\")\n",
        "    count = cur.fetchone()[0]\n",
        "    print(f\"Cantidad de registros en la tabla covid_data: {count}\")"
      ],
      "metadata": {
        "colab": {
          "base_uri": "https://localhost:8080/"
        },
        "id": "QRqCeZoX8fic",
        "outputId": "f48262bc-4f0d-454f-8a70-915b8a3961aa"
      },
      "execution_count": 39,
      "outputs": [
        {
          "output_type": "stream",
          "name": "stdout",
          "text": [
            "Cantidad de registros en la tabla covid_data: 420\n"
          ]
        }
      ]
    },
    {
      "cell_type": "code",
      "source": [
        "# Quiero validar que no hayan duplicados\n",
        "with conn.cursor() as cur:\n",
        "    cur.execute(\"SELECT COUNT(*) FROM (SELECT DISTINCT * FROM covid_data) AS unique_records;\")\n",
        "    count = cur.fetchone()[0]\n",
        "    print(f\"Cantidad de registros únicos en la tabla covid_data: {count}\")"
      ],
      "metadata": {
        "colab": {
          "base_uri": "https://localhost:8080/"
        },
        "id": "TVTQ_-wMqbKw",
        "outputId": "0c749aba-044e-4e52-9964-928a54f9c44c"
      },
      "execution_count": 40,
      "outputs": [
        {
          "output_type": "stream",
          "name": "stdout",
          "text": [
            "Cantidad de registros únicos en la tabla covid_data: 413\n"
          ]
        }
      ]
    },
    {
      "cell_type": "markdown",
      "source": [
        "**Existen** resgistros duplicado"
      ],
      "metadata": {
        "id": "u3SxauQosOIF"
      }
    },
    {
      "cell_type": "code",
      "source": [
        "# Query para borrar la tabla\n",
        "# with conn.cursor() as cur:\n",
        "#    truncate_query = 'DROP TABLE covid_data;'\n",
        "#    cur.execute(truncate_query)\n",
        "# conn.commit()"
      ],
      "metadata": {
        "id": "q4s6PyVV7Fa-"
      },
      "execution_count": null,
      "outputs": []
    },
    {
      "cell_type": "code",
      "source": [
        "# Inserto los mismos registros dos veces para generar más duplicados\n",
        "insert_query = 'INSERT INTO covid_data VALUES (%s, %s, %s, %s, %s, %s, %s, %s, %s, %s);'\n",
        "data_to_insert = [tuple(row) for row in df.values]\n",
        "with conn.cursor() as cur:\n",
        "    cur.executemany(insert_query, data_to_insert)\n",
        "    conn.commit()"
      ],
      "metadata": {
        "id": "jKgtuHzrSnI5"
      },
      "execution_count": 41,
      "outputs": []
    },
    {
      "cell_type": "code",
      "source": [
        "# Cuento la cantidad de registros para validar\n",
        "with conn.cursor() as cur:\n",
        "    cur.execute(\"SELECT COUNT(*) FROM covid_data\")\n",
        "    count = cur.fetchone()[0]\n",
        "    print(f\"Cantidad de registros en la tabla covid_data: {count}\")"
      ],
      "metadata": {
        "colab": {
          "base_uri": "https://localhost:8080/"
        },
        "id": "a-QBYBc1ojTL",
        "outputId": "9b849ded-b1fb-47c4-a569-85b96b1ad196"
      },
      "execution_count": 42,
      "outputs": [
        {
          "output_type": "stream",
          "name": "stdout",
          "text": [
            "Cantidad de registros en la tabla covid_data: 840\n"
          ]
        }
      ]
    },
    {
      "cell_type": "code",
      "source": [
        "# Query para eliminar duplicados\n",
        "with conn.cursor() as cur:\n",
        "    # Creo una nueva tabla temporal sin duplicados\n",
        "    cur.execute(\"CREATE TABLE covid_data_temp AS SELECT DISTINCT * FROM covid_data;\")\n",
        "\n",
        "    # Elimino la tabla original\n",
        "    cur.execute(\"DROP TABLE covid_data;\")\n",
        "\n",
        "    # Renombro la tabla temporal como la tabla original\n",
        "    cur.execute(\"ALTER TABLE covid_data_temp RENAME TO covid_data;\")\n",
        "\n",
        "    # Confirmo los cambios\n",
        "    conn.commit()\n",
        "\n",
        "    # Obtengo la cantidad de registros después de eliminar duplicados\n",
        "    cur.execute(\"SELECT COUNT(*) FROM covid_data;\")\n",
        "    count = cur.fetchone()[0]\n",
        "    print(f\"Cantidad de registros en la tabla covid_data después de eliminar duplicados: {count}\")"
      ],
      "metadata": {
        "colab": {
          "base_uri": "https://localhost:8080/"
        },
        "id": "rtTxJdz7S5Xs",
        "outputId": "da488b66-f55c-4148-c3bb-1f81b25923a2"
      },
      "execution_count": 43,
      "outputs": [
        {
          "output_type": "stream",
          "name": "stdout",
          "text": [
            "Cantidad de registros en la tabla covid_data después de eliminar duplicados: 413\n"
          ]
        }
      ]
    }
  ]
}